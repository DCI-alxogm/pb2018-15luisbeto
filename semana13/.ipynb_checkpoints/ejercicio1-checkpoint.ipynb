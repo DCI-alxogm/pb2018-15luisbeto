{
 "cells": [
  {
   "cell_type": "code",
   "execution_count": 77,
   "metadata": {},
   "outputs": [],
   "source": [
    "##variables y librerias\n",
    "import matplotlib.pyplot as plt\n",
    "import numpy as np\n",
    "import math\n",
    "\n",
    "##longitud de la caja \n",
    "long=10\n",
    "esp=2 ##espaciado\n",
    "esp2=20 ##espaciado para saber cuantos puntos hay del circulo\n",
    "V1=np.zeros([10,10])\n"
   ]
  },
  {
   "cell_type": "markdown",
   "metadata": {},
   "source": [
    "# EJERCICIO 1"
   ]
  },
  {
   "cell_type": "markdown",
   "metadata": {},
   "source": [
    "## PASO 1 "
   ]
  },
  {
   "cell_type": "code",
   "execution_count": 80,
   "metadata": {},
   "outputs": [
    {
     "name": "stdout",
     "output_type": "stream",
     "text": [
      "2\n"
     ]
    },
    {
     "data": {
      "text/plain": [
       "<matplotlib.collections.PathCollection at 0x7f2da9a0ebd0>"
      ]
     },
     "execution_count": 80,
     "metadata": {},
     "output_type": "execute_result"
    },
    {
     "data": {
      "image/png": "[encoded data removed]",
      "text/plain": [
       "<Figure size 432x288 with 1 Axes>"
      ]
     },
     "metadata": {
      "needs_background": "light"
     },
     "output_type": "display_data"
    }
   ],
   "source": [
    "##decalaración de los vectores que contienen los puntos random\n",
    "x=np.random.rand(long)\n",
    "y=np.random.rand(long)\n",
    "z=np.array([x,y])\n",
    "print (len(z))\n",
    "\n",
    "##graficar los puntos random\n",
    "plt.scatter(x,y,color='b')\n",
    "\n",
    "##declaración la bariable de la posición\n",
    "b=0\n",
    "\n",
    "##declaración del tamaño de los vectores de los puntos de los circulos\n",
    "cx = np.random.rand(36*long/esp)\n",
    "cy = np.random.rand(36*long/esp)\n",
    "\n",
    "##ciclo para asignar los valores del circulo a los puntos random\n",
    "for f in range(0,long,esp):\n",
    "    for i in range(0,360,10):\n",
    "        cx[b] = np.cos(i)*.1 + x[f]\n",
    "        cy[b] = np.sin(i)*.1 + y[f]\n",
    "        b=b+1\n",
    "\n",
    "##graficar los puntos de los circulos\n",
    "plt.scatter(cx,cy,color='r')   "
   ]
  },
  {
   "cell_type": "code",
   "execution_count": null,
   "metadata": {},
   "outputs": [],
   "source": []
  },
  {
   "cell_type": "code",
   "execution_count": null,
   "metadata": {},
   "outputs": [],
   "source": []
  },
  {
   "cell_type": "code",
   "execution_count": null,
   "metadata": {},
   "outputs": [],
   "source": []
  }
 ],
 "metadata": {
  "kernelspec": {
   "display_name": "Python 2",
   "language": "python",
   "name": "python2"
  },
  "language_info": {
   "codemirror_mode": {
    "name": "ipython",
    "version": 2
   },
   "file_extension": ".py",
   "mimetype": "text/x-python",
   "name": "python",
   "nbconvert_exporter": "python",
   "pygments_lexer": "ipython2",
   "version": "2.7.15"
  }
 },
 "nbformat": 4,
 "nbformat_minor": 2
}
